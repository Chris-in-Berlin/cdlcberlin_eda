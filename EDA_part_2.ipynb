{
 "cells": [
  {
   "cell_type": "markdown",
   "metadata": {},
   "source": [
    "## Set-up"
   ]
  },
  {
   "cell_type": "markdown",
   "metadata": {},
   "source": [
    "### Second EDA file\n",
    "- EDA part 1 become to slow\n",
    "- df_house is called df_house2 in this notebook"
   ]
  },
  {
   "cell_type": "code",
   "execution_count": null,
   "metadata": {},
   "outputs": [],
   "source": [
    "import warnings\n",
    "\n",
    "warnings.filterwarnings(\"ignore\")\n",
    "\n",
    "import pandas as pd\n",
    "import numpy as np\n",
    "import matplotlib.pyplot as plt\n",
    "import seaborn as sns\n",
    "\n",
    "\n",
    "from matplotlib.ticker import PercentFormatter\n",
    "plt.rcParams.update({ \"figure.figsize\" : (8, 5),\"axes.facecolor\" : \"white\", \"axes.edgecolor\":  \"black\"})\n",
    "plt.rcParams[\"figure.facecolor\"]= \"w\"\n",
    "pd.plotting.register_matplotlib_converters()\n",
    "pd.set_option('display.float_format', lambda x: '%.2f' % x)"
   ]
  },
  {
   "cell_type": "code",
   "execution_count": null,
   "metadata": {},
   "outputs": [],
   "source": [
    "df_house2 = pd.read_csv('data/eda.csv')\n",
    "df_house3 = pd.read_csv('data/seattle_income_zip.csv')\n"
   ]
  },
  {
   "cell_type": "code",
   "execution_count": null,
   "metadata": {},
   "outputs": [],
   "source": [
    "df_house2.rename({'id':'house_id'},axis=1, inplace=True)\n",
    "df_house2['date'] = pd.to_datetime(df_house2['date'], format='%Y-%m-%d')\n",
    "df_house2['yr_renovated'] = df_house2.yr_renovated.apply(lambda x: x*0.1)\n",
    "df_house2['yr_renovated'] = df_house2['yr_renovated'].fillna(0)\n",
    "\n",
    "df_house2['zipcode'] = df_house2['zipcode'].astype('string')\n",
    "\n"
   ]
  },
  {
   "cell_type": "markdown",
   "metadata": {},
   "source": [
    "## Average House Grade by Zipcode"
   ]
  },
  {
   "cell_type": "code",
   "execution_count": null,
   "metadata": {},
   "outputs": [],
   "source": [
    "zip_price = df_house2[['zipcode', 'price']].groupby('zipcode').mean('price').sort_values('price').reset_index()\n",
    "zip_grade = df_house2[['zipcode', 'grade']].groupby('zipcode').mean('grade').sort_values('grade').reset_index()\n",
    "zip_grade.rename({'grade':'grade_average'},axis=1, inplace=True)\n",
    "\n",
    "price_grade = pd.merge(zip_price, zip_grade, on='zipcode', how='inner')\n",
    "price_grade"
   ]
  },
  {
   "cell_type": "code",
   "execution_count": null,
   "metadata": {},
   "outputs": [],
   "source": [
    "\n",
    "import plotly.express as px\n",
    "from urllib.request import urlopen\n",
    "import json\n",
    "with urlopen('https://raw.githubusercontent.com/OpenDataDE/State-zip-code-GeoJSON/master/wa_washington_zip_codes_geo.min.json') as response:\n",
    "    zipcodes = json.load(response)\n",
    "\n",
    "\n",
    "df_zip = price_grade\n",
    "\n",
    "fig = px.choropleth_mapbox(df_zip, geojson=zipcodes, locations='zipcode', color='grade_average',\n",
    "                            color_continuous_scale=\"Viridis\",\n",
    "                            range_color=(df_zip['grade_average'].min(),df_zip['grade_average'].max()),\n",
    "                            mapbox_style=\"carto-positron\",\n",
    "                            zoom=8, center = {\"lat\": 47.553306, \"lon\": -122.237702},\n",
    "                            featureidkey=\"properties.ZCTA5CE10\",\n",
    "                            opacity= 0.5,\n",
    "                            labels={'grade_average':'average house grade'}\n",
    "                            )\n",
    "\n",
    "fig.update_layout(margin={\"r\":0,\"t\":0,\"l\":0,\"b\":0})"
   ]
  },
  {
   "cell_type": "markdown",
   "metadata": {},
   "source": [
    "### Insights\n",
    "- average house grades seem to be lower south of Seattle city center\n",
    "- average house grades seem to be higher in water-faceing zipcodes than in others\n",
    "- average house grades are higher towards the East, especially the North East \n",
    "- Zipcode 98039, primarily in Medina, the highest average house grade (upper middle class area, predominantly white, household income $208K)\n",
    "- Zipcode 98168 (Tukwila, Burien, SeaTac, Boulevard Park, and White Center) has the lowest average house grade (lower middle class, mixed, household income of $71K)"
   ]
  },
  {
   "cell_type": "markdown",
   "metadata": {},
   "source": [
    "## Property locations in King County"
   ]
  },
  {
   "cell_type": "code",
   "execution_count": null,
   "metadata": {},
   "outputs": [],
   "source": [
    "fig = px.density_mapbox(df_house2, lat=df_house2['lat'], lon=df_house2['long'],\n",
    "                        radius=10,\n",
    "                        zoom=8,\n",
    "                        mapbox_style=\"open-street-map\")\n",
    "\n",
    "fig.show()"
   ]
  },
  {
   "cell_type": "markdown",
   "metadata": {},
   "source": [
    "## Changes in price per sqft_living by grade\n",
    "- Assumption is that the change in price per \"sqft living area\" is a good proxy for general price changes across grade-based property categories"
   ]
  },
  {
   "cell_type": "code",
   "execution_count": null,
   "metadata": {},
   "outputs": [],
   "source": [
    "df_house2.date.min()\n",
    "\n",
    "comp_1 = df_house2[['grade','date', 'price', 'sqft_living']].query('date >= \"2014-05-01\" and date <= \"2014-7-31\"').groupby('grade').mean('price')\n",
    "comp_1.rename({'price':'price2014', 'sqft_living': 'sqft_living2014'},axis=1, inplace=True)\n",
    "\n",
    "\n",
    "comp_2 = df_house2[['grade','date', 'price', 'sqft_living']].query('date >= \"2015-03-01\" and date <= \"2015-5-31\"').groupby('grade').mean('price')\n",
    "comp_2.rename({'price':'price2015', 'sqft_living': 'sqft_living2015'},axis=1, inplace=True)\n",
    "\n",
    "comp_1['price_sqft_ave_2014MJ'] = comp_1['price2014'] / comp_1['sqft_living2014']\n",
    "comp_2['price_sqft_ave_2015MM'] = comp_2['price2015'] / comp_2['sqft_living2015']\n",
    "\n",
    "merged_comp_range = pd.merge(comp_1, comp_2, on='grade', how='inner')\n",
    "\n",
    "merged_comp_range['delta_price_in_%'] = ((merged_comp_range['price_sqft_ave_2015MM']/merged_comp_range['price_sqft_ave_2014MJ'])-1)*100\n",
    "merged_comp_range"
   ]
  },
  {
   "cell_type": "markdown",
   "metadata": {},
   "source": [
    "### Insights\n",
    "- Assumption is that average price per sqft living area is a good indication for price changes.\n",
    "- Property prices rose significantly between the period May to July 2014 and March to May 2015 but not for all grades.\n",
    "- Super mansion prices stayed the same, while prices for high end luxury homes rose by 34%.\n",
    "- Grade 4, grade 5 and grade 6 average property prices rose significantly (14% and 23%)."
   ]
  },
  {
   "cell_type": "markdown",
   "metadata": {},
   "source": [
    "## Changes in price per sqft_living by zipcode\n",
    "- Assumption is that the change in price per \"sqft living area\" is a good proxy for general price changes across zipcodes (better reflection of property price deltas than vartiable \"price\")"
   ]
  },
  {
   "cell_type": "code",
   "execution_count": null,
   "metadata": {},
   "outputs": [],
   "source": [
    "comp_zip_1 = df_house2[['zipcode','date', 'price', 'sqft_living']].query('date >= \"2014-05-01\" and date <= \"2014-7-31\"').groupby('zipcode').mean('price').reset_index()\n",
    "comp_zip_1.rename({'price':'price2014', 'sqft_living': 'sqft_living2014'},axis=1, inplace=True)\n",
    "\n",
    "\n",
    "comp_zip_2 = df_house2[['zipcode','date', 'price', 'sqft_living']].query('date >= \"2015-03-01\" and date <= \"2015-5-31\"').groupby('zipcode').mean('price').reset_index()\n",
    "comp_zip_2.rename({'price':'price2015', 'sqft_living': 'sqft_living2015'},axis=1, inplace=True)\n",
    "\n",
    "comp_zip_1['price_sqft_ave_2014MJ'] = comp_zip_1['price2014'] / comp_zip_1['sqft_living2014']\n",
    "comp_zip_2['price_sqft_ave_2015MM'] = comp_zip_2['price2015'] / comp_zip_2['sqft_living2015']\n",
    "\n",
    "merged_comp_zip = pd.merge(comp_zip_1, comp_zip_2, on='zipcode', how='inner')\n",
    "\n",
    "merged_comp_zip['delta_price_in_%'] = ((merged_comp_zip['price_sqft_ave_2015MM']/merged_comp_zip['price_sqft_ave_2014MJ'])-1)*100\n",
    "merged_comp_zip"
   ]
  },
  {
   "cell_type": "code",
   "execution_count": null,
   "metadata": {},
   "outputs": [],
   "source": [
    "df_zip = merged_comp_zip\n",
    "\n",
    "fig = px.choropleth_mapbox(df_zip, geojson=zipcodes, locations='zipcode', color='delta_price_in_%',\n",
    "                            color_continuous_scale=\"Viridis\",\n",
    "                            range_color=(df_zip['delta_price_in_%'].min(),df_zip['delta_price_in_%'].max()),\n",
    "                            mapbox_style=\"carto-positron\",\n",
    "                            zoom=8, center = {\"lat\": 47.553306, \"lon\": -122.237702},\n",
    "                            featureidkey=\"properties.ZCTA5CE10\",\n",
    "                            opacity= 0.5,\n",
    "                            labels={'delta_price_in_%':'delta in ave house prices 2014 Q2 to 2015 Q2'}\n",
    "                            )\n",
    "\n",
    "fig.update_layout(margin={\"r\":0,\"t\":0,\"l\":0,\"b\":0})"
   ]
  },
  {
   "cell_type": "markdown",
   "metadata": {},
   "source": [
    "### Insights\n",
    "- Prices in zipcode 98125 rose significantly during period (27%).\n",
    "- Prices in zipcodes in the South rose less than prices in zipcodes in the North East.\n",
    "- Prices in inner borough zipcodes towards the N, S and SE of Seattle centre remained flat (98108, 98109, 98144).\n",
    "- Prices rose more in \"outer\" inner borough zipcode to the N and S of Seattle Center (e.g. 98118, 98168, 98188)"
   ]
  },
  {
   "cell_type": "markdown",
   "metadata": {},
   "source": [
    "## Median income per neighborhood\n",
    "- table df_house3 is based on seattle_income_zip.csv, which contains median household income data for Seattle plus King County"
   ]
  },
  {
   "cell_type": "code",
   "execution_count": null,
   "metadata": {},
   "outputs": [],
   "source": [
    "df_house3.rename({'ZIP Code':'zipcode', 'Median Household Income(2021)': 'median_income'},axis=1, inplace=True)\n",
    "df_house3['zipcode'] = df_house3['zipcode'].astype('string')\n",
    "df_house3.head()\n"
   ]
  },
  {
   "cell_type": "code",
   "execution_count": null,
   "metadata": {},
   "outputs": [],
   "source": [
    "df_zip = df_house3\n",
    "\n",
    "fig = px.choropleth_mapbox(df_zip, geojson=zipcodes, locations='zipcode', color='median_income',\n",
    "                            color_continuous_scale=\"Viridis\",\n",
    "                            range_color=(df_zip['median_income'].min(),df_zip['median_income'].max()),\n",
    "                            mapbox_style=\"carto-positron\",\n",
    "                            zoom=8, center = {\"lat\": 47.553306, \"lon\": -122.237702},\n",
    "                            featureidkey=\"properties.ZCTA5CE10\",\n",
    "                            opacity= 0.5,\n",
    "                            labels={'median_income':'median_income_by_zip'}\n",
    "                            )\n",
    "\n",
    "fig.update_layout(margin={\"r\":0,\"t\":0,\"l\":0,\"b\":0})"
   ]
  },
  {
   "cell_type": "markdown",
   "metadata": {},
   "source": [
    "# Analysis for Nicole Johnson"
   ]
  },
  {
   "cell_type": "markdown",
   "metadata": {},
   "source": [
    "### Main table for plotting median income by zipcode\n",
    "- Reference dataframe for all median income zipcodes that might form part of analyis\n",
    "- Contains zipcodes of \"preferred areas\" and \"adjacent zipcodes\"\n",
    "- df_house3_1 is based on df_house3"
   ]
  },
  {
   "cell_type": "code",
   "execution_count": null,
   "metadata": {},
   "outputs": [],
   "source": [
    "df_house3_1 = df_house3.query('zipcode in [\"98101\", \"98102\", \"98103\", \"98104\", \"98105\", \"98107\", \"98121\", \"98122\", \"98109\", \"98112\", \"98115\", \"98119\", \"98117\", \"98121\", \"98125\", \"98133\", \"98177\", \"98199\"]')\n",
    "df_house3_1"
   ]
  },
  {
   "cell_type": "markdown",
   "metadata": {},
   "source": [
    "### Main table for identifying properties by zipcode\n",
    "- df_trendy is a zipcode-based subset of df_house2. It contains all property information that is relevant for zipcodes relevant for the Nicole Johnson search (preferred and adjacent) "
   ]
  },
  {
   "cell_type": "code",
   "execution_count": null,
   "metadata": {},
   "outputs": [],
   "source": [
    "df_trendy = df_house2.query('zipcode in [\"98101\", \"98102\", \"98103\", \"98104\", \"98105\", \"98107\", \"98121\", \"98122\", \"98109\", \"98112\", \"98115\", \"98119\", \"98117\", \"98121\", \"98177\", \"98199\"]')\n",
    "\n",
    "df_trendy"
   ]
  },
  {
   "cell_type": "markdown",
   "metadata": {},
   "source": [
    "### Identify prices and property sales numbers in Nicole's preferred areas\n",
    "- merged table allows to identify target zipcodes"
   ]
  },
  {
   "cell_type": "code",
   "execution_count": null,
   "metadata": {},
   "outputs": [],
   "source": [
    "df_trendy1 = df_trendy[['zipcode', 'price', 'bedrooms']].groupby('zipcode').mean()\n",
    "df_trendy2 = df_trendy[['zipcode', 'sale_id']].groupby('zipcode').count().reset_index()\n",
    "df_trendy2.rename ({'sale_id':'turnover'},axis=1, inplace=True)\n",
    "df_trendy_merge = pd.merge(df_trendy1, df_trendy2, on='zipcode', how='inner').sort_values(\"price\")\n",
    "\n",
    "df_trendy_merge"
   ]
  },
  {
   "cell_type": "markdown",
   "metadata": {},
   "source": [
    "### Graphic analysis of Nicole's preferred zipcodes (average price and turnover)"
   ]
  },
  {
   "cell_type": "code",
   "execution_count": null,
   "metadata": {},
   "outputs": [],
   "source": [
    "df_trendy_merge.query('zipcode in [\"98101\", \"98102\", \"98103\", \"98104\", \"98105\", \"98107\", \"98121\", \"98122\"]')"
   ]
  },
  {
   "cell_type": "code",
   "execution_count": null,
   "metadata": {},
   "outputs": [],
   "source": [
    "df_trendy_merge_preferred = df_trendy_merge.query('zipcode in [\"98101\", \"98102\", \"98103\", \"98104\", \"98105\", \"98107\", \"98121\", \"98122\"]')\n",
    "\n",
    "df_zip = df_trendy_merge_preferred\n",
    "\n",
    "fig = px.choropleth_mapbox(df_zip, geojson=zipcodes, locations='zipcode', color='price',\n",
    "                            color_continuous_scale=\"Viridis\",\n",
    "                            range_color=(df_zip['price'].min(),df_zip['price'].max()),\n",
    "                            mapbox_style=\"carto-positron\",\n",
    "                            zoom=8, center = {\"lat\": 47.553306, \"lon\": -122.237702},\n",
    "                            featureidkey=\"properties.ZCTA5CE10\",\n",
    "                            opacity= 0.5,\n",
    "                            labels={'price':'average_price_by_zip'}\n",
    "                            )\n",
    "\n",
    "fig.update_layout(margin={\"r\":0,\"t\":0,\"l\":0,\"b\":0})"
   ]
  },
  {
   "cell_type": "markdown",
   "metadata": {},
   "source": [
    "### Identification of additional search areas \n",
    "- zipcode areas are visualized by median income per zipcode\n",
    "- we select zipcodes with median household income > USD 100K\n"
   ]
  },
  {
   "cell_type": "code",
   "execution_count": null,
   "metadata": {},
   "outputs": [],
   "source": [
    "df_trendy_merge_selected = df_house3_1.query('zipcode in [\"98109\", \"98112\", \"98115\", \"98119\", \"98117\", \"98121\", \"98125\", \"98133\", \"98144\", \"98177\", \"98199\"]')\n",
    "\n",
    "\n",
    "df_zip = df_trendy_merge_selected\n",
    "\n",
    "fig = px.choropleth_mapbox(df_zip, geojson=zipcodes, locations='zipcode', color='median_income',\n",
    "                            color_continuous_scale=\"Viridis\",\n",
    "                            range_color=(df_zip['median_income'].min(),df_zip['median_income'].max()),\n",
    "                            mapbox_style=\"carto-positron\",\n",
    "                            zoom=8, center = {\"lat\": 47.553306, \"lon\": -122.237702},\n",
    "                            featureidkey=\"properties.ZCTA5CE10\",\n",
    "                            opacity= 0.5,\n",
    "                            labels={'median_income':'median_income_by_zip'}\n",
    "                            )\n",
    "\n",
    "fig.update_layout(margin={\"r\":0,\"t\":0,\"l\":0,\"b\":0})"
   ]
  },
  {
   "cell_type": "markdown",
   "metadata": {},
   "source": [
    "## 4.6 Identification of properties in selected zipcodes\n",
    "We need a two bedroom in zipcode 98117, 98103, 98107, 98155"
   ]
  },
  {
   "cell_type": "code",
   "execution_count": null,
   "metadata": {},
   "outputs": [],
   "source": [
    "# we need a two bedroom in zipcode 98117, 98103, 98107, 98155\n",
    "\n",
    "df_house2.query('(zipcode in [\"98117\", \"98103\", \"98107\", \"98155\"]) and (price < 450000) and (bedrooms == 2) and (bathrooms == 2)')\n"
   ]
  }
 ],
 "metadata": {
  "kernelspec": {
   "display_name": ".venv",
   "language": "python",
   "name": "python3"
  },
  "language_info": {
   "name": "python",
   "version": "3.11.3"
  }
 },
 "nbformat": 4,
 "nbformat_minor": 2
}
