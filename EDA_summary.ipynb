{
 "cells": [
  {
   "cell_type": "markdown",
   "metadata": {},
   "source": [
    "# 1. Analysis Preparation and Data Cleansing"
   ]
  },
  {
   "cell_type": "markdown",
   "metadata": {},
   "source": [
    "## 1.1 Set-up environment"
   ]
  },
  {
   "cell_type": "code",
   "execution_count": null,
   "metadata": {},
   "outputs": [],
   "source": [
    "import warnings\n",
    "\n",
    "warnings.filterwarnings(\"ignore\")\n",
    "\n",
    "import pandas as pd\n",
    "import numpy as np\n",
    "import matplotlib.pyplot as plt\n",
    "import seaborn as sns\n",
    "\n",
    "\n",
    "from matplotlib.ticker import PercentFormatter\n",
    "plt.rcParams.update({ \"figure.figsize\" : (8, 5),\"axes.facecolor\" : \"white\", \"axes.edgecolor\":  \"black\"})\n",
    "plt.rcParams[\"figure.facecolor\"]= \"w\"\n",
    "pd.plotting.register_matplotlib_converters()\n",
    "pd.set_option('display.float_format', lambda x: '%.2f' % x)"
   ]
  },
  {
   "cell_type": "markdown",
   "metadata": {},
   "source": [
    "Upload csv file"
   ]
  },
  {
   "cell_type": "code",
   "execution_count": null,
   "metadata": {},
   "outputs": [],
   "source": [
    "df_house = pd.read_csv('data/eda.csv')\n",
    "# second .csv file uploaded in section 3"
   ]
  },
  {
   "cell_type": "markdown",
   "metadata": {},
   "source": [
    "## 1.2 Rename and change columns - clean data if necessary"
   ]
  },
  {
   "cell_type": "code",
   "execution_count": null,
   "metadata": {},
   "outputs": [],
   "source": [
    "# rename columns\n",
    "df_house.rename({'id':'house_id'},axis=1, inplace=True)"
   ]
  },
  {
   "cell_type": "code",
   "execution_count": null,
   "metadata": {},
   "outputs": [],
   "source": [
    "# change date type\n",
    "df_house['date'] = pd.to_datetime(df_house['date'], format='%Y-%m-%d')\n",
    "type(df_house['date'][0])"
   ]
  },
  {
   "cell_type": "code",
   "execution_count": null,
   "metadata": {},
   "outputs": [],
   "source": [
    "# limit decimal points\n",
    "df_house['price'] = df_house['price'].round(2)"
   ]
  },
  {
   "cell_type": "code",
   "execution_count": null,
   "metadata": {},
   "outputs": [],
   "source": [
    "# ZIPCODES\n",
    "# turn zipcodes into string\n",
    "df_house['zipcode'] = df_house['zipcode'].astype('string')"
   ]
  },
  {
   "cell_type": "code",
   "execution_count": null,
   "metadata": {},
   "outputs": [],
   "source": [
    "#View\n",
    "#- No changes\n",
    "#- NaN means  that we don't know whether change took place"
   ]
  },
  {
   "cell_type": "code",
   "execution_count": null,
   "metadata": {},
   "outputs": [],
   "source": [
    "#WATERFRONT\n",
    "#- No changes\n",
    "#- NaN means \"we don't know whether property has waterfront view\""
   ]
  },
  {
   "cell_type": "code",
   "execution_count": null,
   "metadata": {},
   "outputs": [],
   "source": [
    "# YR_RENOVATED\n",
    "\n",
    "# we need to change the year value (i.e., divide by 10)\n",
    "df_house['yr_renovated'] = df_house.yr_renovated.apply(lambda x: x*0.1)\n",
    "\n",
    "# we assume that NaN in DB means not yet renovated\n",
    "df_house['yr_renovated'] = df_house['yr_renovated'].replace(0, np.nan)"
   ]
  },
  {
   "cell_type": "code",
   "execution_count": null,
   "metadata": {},
   "outputs": [],
   "source": [
    "# SQFT_BASEMENT\n",
    "# assumption is that '0' means 'no basement'\n",
    "# NaN means that we don't know whether a basement exists"
   ]
  },
  {
   "cell_type": "markdown",
   "metadata": {},
   "source": [
    "# 2. Data exploration"
   ]
  },
  {
   "cell_type": "markdown",
   "metadata": {},
   "source": [
    "## 2.1 Property price - descriptive statistics\n",
    "\n",
    "- mean     540,296.57\n",
    "- std      367,368.14\n",
    "- min       78,000.00\n",
    "- 25%      322,000.00\n",
    "- 50%      450,000.00\n",
    "- 75%      645,000.00\n",
    "- max     7,700,000.00\n",
    "\n",
    "- There seem to be a lot of outliers. Roughly 200 houses (198) cost more than U>Sd 2 m.\n",
    "- Median is USD 450000.\n",
    "- Mode is USD 350000 and USD 450000.\n",
    "- IQR is USD 323,000\n",
    "- UP is USD 1,129,500"
   ]
  },
  {
   "cell_type": "code",
   "execution_count": null,
   "metadata": {},
   "outputs": [],
   "source": [
    "print(f'There are {df_house.query(\"price > 2000000\").price.count()} houses more expensive than USD 2m.')\n",
    "print(f'Median is {df_house.price.median()}.')\n",
    "print(f'Mode is {df_house.price.mode()}.')\n"
   ]
  },
  {
   "cell_type": "markdown",
   "metadata": {},
   "source": [
    "### Property price box diagram"
   ]
  },
  {
   "cell_type": "code",
   "execution_count": null,
   "metadata": {},
   "outputs": [],
   "source": [
    "df_house.query('price < 2000000').price.plot(kind = 'box')"
   ]
  },
  {
   "cell_type": "markdown",
   "metadata": {},
   "source": [
    "### Property price frequency distribution"
   ]
  },
  {
   "cell_type": "code",
   "execution_count": null,
   "metadata": {},
   "outputs": [],
   "source": [
    "df_house.query('price < 2000000').price.plot(kind = 'hist', bins = 100)"
   ]
  },
  {
   "cell_type": "markdown",
   "metadata": {},
   "source": [
    "## 2.2 Zipcode-analytics"
   ]
  },
  {
   "cell_type": "code",
   "execution_count": null,
   "metadata": {},
   "outputs": [],
   "source": [
    "df_house['zipcode'].nunique()\n",
    "# There are 70 different zipcodes in King County"
   ]
  },
  {
   "cell_type": "markdown",
   "metadata": {},
   "source": [
    "### Zip code and property price"
   ]
  },
  {
   "cell_type": "code",
   "execution_count": null,
   "metadata": {},
   "outputs": [],
   "source": [
    "# Zip codes with the lowest average house prices\n",
    "df_house.groupby('zipcode').price.describe().sort_values('mean').head(10)"
   ]
  },
  {
   "cell_type": "markdown",
   "metadata": {},
   "source": [
    "### Ave property prices per zipcode\n",
    "- averages are based on data 2014 May to 2015 May"
   ]
  },
  {
   "cell_type": "code",
   "execution_count": null,
   "metadata": {},
   "outputs": [],
   "source": [
    "# zip code plot\n",
    "\n",
    "zip_price_plot = df_house[['zipcode', 'price']].groupby('zipcode').mean('price').sort_values('price').reset_index()\n",
    "\n",
    "\n",
    "\n",
    "# Set the width of the bars\n",
    "bar_width = 0.3\n",
    "\n",
    "# Set positions of the bars\n",
    "index = np.arange(len(zip_price_plot['zipcode']))\n",
    "\n",
    "# Plotting the bars\n",
    "plt.figure(figsize=(12, 6))  # Adjust the figure size as needed\n",
    "bars1 = plt.bar(index, zip_price_plot['price'], bar_width, label='average price')\n",
    "\n",
    "# Adding labels and title\n",
    "plt.xlabel('Zipcode')\n",
    "plt.ylabel('Average price')\n",
    "plt.title('Average House price per zipcode')\n",
    "plt.xticks(index, zip_price_plot['zipcode'], rotation=90)\n",
    "plt.legend()\n",
    "\n",
    "# Show the plot\n",
    "plt.tight_layout()\n",
    "plt.show()\n",
    "\n",
    "zip_price_plot"
   ]
  },
  {
   "cell_type": "markdown",
   "metadata": {},
   "source": [
    "### Insights\n",
    "- Average property prices are zipcode dependent\n",
    "- Highest property prices in 98039 (upper-middle class neighborhood)"
   ]
  },
  {
   "cell_type": "markdown",
   "metadata": {},
   "source": [
    "### Property sales by zipcode area\n",
    "- averages are based on data 2014 May to 2015 May"
   ]
  },
  {
   "cell_type": "code",
   "execution_count": null,
   "metadata": {},
   "outputs": [],
   "source": [
    "# Zip codes with the highest sales turnover\n",
    "\n",
    "zip_turnover_plot = df_house[['zipcode','sale_id']].groupby('zipcode').count().sort_values('sale_id').reset_index()\n",
    "\n",
    "# Set the width of the bars\n",
    "bar_width = 0.3\n",
    "\n",
    "# Set positions of the bars\n",
    "index = np.arange(len(zip_turnover_plot['zipcode']))\n",
    "\n",
    "# Plotting the bars\n",
    "plt.figure(figsize=(12, 6))  # Adjust the figure size as needed\n",
    "bars1 = plt.bar(index, zip_turnover_plot['sale_id'], bar_width, label='turnover')\n",
    "\n",
    "# Adding labels and title\n",
    "plt.xlabel('Zipcode')\n",
    "plt.ylabel('Sales in Period')\n",
    "plt.title('Sales in period per zipcode')\n",
    "plt.xticks(index, zip_turnover_plot['zipcode'], rotation=90)\n",
    "plt.legend()\n",
    "\n",
    "# Show the plot\n",
    "plt.tight_layout()\n",
    "plt.show()"
   ]
  },
  {
   "cell_type": "markdown",
   "metadata": {},
   "source": [
    "### Insights\n",
    "- highest turnovers in zipcodes 98103, 98038, 98115 (all upper-middle and middle class white neighborhoods)\n",
    "- lowest turnovers in zipcode 98039 (upper middle class, small, very high house prices) and 98092 (lower middle class, white)"
   ]
  },
  {
   "cell_type": "markdown",
   "metadata": {},
   "source": [
    "### Property sales and average property price by zipcode\n",
    "- averages are based on data 2014 May to 2015 May"
   ]
  },
  {
   "cell_type": "code",
   "execution_count": null,
   "metadata": {},
   "outputs": [],
   "source": [
    "zip_grade_plot = df_house[['zipcode', 'grade']].groupby('zipcode').mean('grade').sort_values('grade').reset_index()\n",
    "zip_grade_plot.rename({'grade':'grade_average'},axis=1, inplace=True)\n",
    "\n",
    "merged_zip_plot = pd.merge(zip_price_plot, zip_turnover_plot, on='zipcode', how='inner')\n",
    "merged_zip_plot.rename({'sale_id':'turnover_in_period'},axis=1, inplace=True)\n",
    "merged_zip_grade_plot = pd.merge(zip_price_plot, zip_grade_plot, on='zipcode', how='inner')"
   ]
  },
  {
   "cell_type": "code",
   "execution_count": null,
   "metadata": {},
   "outputs": [],
   "source": [
    "# Comparison Average Price and Turnover by Zipcode\n",
    "\n",
    "# Set the width of the bars\n",
    "bar_width = 0.3\n",
    "\n",
    "# Set positions of the bars\n",
    "index = np.arange(len(merged_zip_plot['zipcode']))\n",
    "\n",
    "# Plotting the bars\n",
    "fig, ax1 = plt.subplots(figsize=(12,6))\n",
    "\n",
    "bars1 = ax1.bar(index - 0.5 * bar_width, merged_zip_plot['price'], bar_width, label='price')\n",
    "\n",
    "ax1.set_xlabel('zipcode')\n",
    "ax1.set_ylabel('average house price', color = 'b')\n",
    "ax1.tick_params(axis='y', labelcolor='b')\n",
    "ax1.set_xticks(index)\n",
    "ax1.set_xticklabels(merged_zip_plot['zipcode'], rotation=90)\n",
    "\n",
    "ax2 = ax1.twinx()\n",
    "bars2 = ax2.bar(index + 0.5 * bar_width, merged_zip_plot['turnover_in_period'], bar_width, label='turnover_in_period', color = 'red')\n",
    "\n",
    "ax2.set_ylabel('Turnover in Period', color='red')\n",
    "ax2.tick_params(axis='y', labelcolor='red')\n",
    "\n",
    "# Adding labels and title\n",
    "plt.title('Zipcodes by turnover and average sales price')\n",
    "plt.legend([bars1, bars2], ['price','turnover_in_period'])\n",
    "\n",
    "# Show the plot\n",
    "plt.tight_layout()\n",
    "plt.show()"
   ]
  },
  {
   "cell_type": "markdown",
   "metadata": {},
   "source": [
    "## 2.3 Property analysis"
   ]
  },
  {
   "cell_type": "code",
   "execution_count": null,
   "metadata": {},
   "outputs": [],
   "source": [
    "property_overview_grade_1 = df_house[['grade','price','bedrooms', 'bathrooms','sqft_living','floors', 'condition', 'yr_built', 'yr_renovated']].groupby('grade').mean()\n",
    "property_overview_grade_2 = df_house[['grade', 'sale_id']].groupby('grade').count().reset_index()\n",
    "property_overview_grade_2.rename({'sale_id':'turnover_in_period'},axis=1, inplace=True)\n",
    "property_overview_grade_1['sqft_price_ave'] = property_overview_grade_1['price'] / property_overview_grade_1['sqft_living']\n",
    "property_overview_grade = pd.merge(property_overview_grade_1, property_overview_grade_2, on='grade', how='inner')\n",
    "property_overview_grade\n",
    "# grade 3 houses tend to have one bedroom. Some of them haven't got separate bedrooms\n",
    "# grade 5+ tend to have two or more bedrooms\n",
    "# grade 7+ tend to have more than one floor\n",
    "# average condition of grade 3 homes tends to be very good; however, they tend not to be renovated (or we don't know)\n",
    "# houses up to grade 6 tend to be pre-war\n"
   ]
  },
  {
   "cell_type": "markdown",
   "metadata": {},
   "source": [
    "### Insights about King County properties\n",
    "- Highest turnover with grade 4 and 5 properties. Properties have up to 4 bedrooms and 2 bathrooms on average. \n",
    "Price per sqft is approx. USD 240.\n",
    "- Smaller appartments seem to be more expensive in terms of sqft prices.\n",
    "- Grade 7 and above tend to have more than one bathroom.\n",
    "- Properties of higher quality tend to be bigger and more expensive in terms of sqft price per living area. They might have a bigger plot size.\n",
    "- Up to grade 5, properties tend to be either appartments or bungalows. Grade 6 and above tend to be multi-storied.\n",
    "- Grade 5 to grade 8 properties tend to be of better condition than the rest.\n",
    "- Grade 3 to grade 6 properties tend to be pre-war, grade 9 and above approx. 25 yrs old."
   ]
  },
  {
   "cell_type": "markdown",
   "metadata": {},
   "source": [
    "# 3. Geographical analysis "
   ]
  },
  {
   "cell_type": "markdown",
   "metadata": {},
   "source": [
    "## 3.1 Property prices per zipcode"
   ]
  },
  {
   "cell_type": "code",
   "execution_count": null,
   "metadata": {},
   "outputs": [],
   "source": [
    "# upload packages\n",
    "from urllib.request import urlopen\n",
    "import json\n"
   ]
  },
  {
   "cell_type": "code",
   "execution_count": null,
   "metadata": {},
   "outputs": [],
   "source": [
    "# run code\n",
    "with urlopen('https://raw.githubusercontent.com/OpenDataDE/State-zip-code-GeoJSON/master/wa_washington_zip_codes_geo.min.json') as response:\n",
    "    zipcodes = json.load(response)\n",
    "\n",
    "by_zipcode = df_house.groupby('zipcode').agg({'price': 'mean'}).reset_index()\n",
    "#by_zipcode['zipcode'] = df_house.zipcode.astype('str')\n",
    "#by_zipcode.head()\n",
    "\n",
    "import plotly.express as px\n",
    "\n",
    "\n",
    "fig = px.choropleth_mapbox(by_zipcode, geojson=zipcodes, locations='zipcode', color='price',\n",
    "                           color_continuous_scale=\"Viridis\",\n",
    "                           range_color=(by_zipcode['price'].min(), 1000000),\n",
    "                           mapbox_style=\"carto-positron\",\n",
    "                           zoom=8, center = {\"lat\": 47.553306, \"lon\": -122.237702},\n",
    "                           featureidkey=\"properties.ZCTA5CE10\",\n",
    "                           opacity=0.5,\n",
    "                           labels={'price':'average house price'}\n",
    "                          )\n",
    "fig.update_layout(margin={\"r\":0,\"t\":0,\"l\":0,\"b\":0})\n",
    "fig.show()"
   ]
  },
  {
   "cell_type": "markdown",
   "metadata": {},
   "source": [
    "## 3.2 Property size per zipcode\n",
    "- Number of bedrooms as proxy for property size"
   ]
  },
  {
   "cell_type": "code",
   "execution_count": null,
   "metadata": {},
   "outputs": [],
   "source": [
    "# Average # of bedrooms\n",
    "with urlopen('https://raw.githubusercontent.com/OpenDataDE/State-zip-code-GeoJSON/master/wa_washington_zip_codes_geo.min.json') as response:\n",
    "    zipcodes = json.load(response)\n",
    "\n",
    "by_zipcode = df_house.groupby('zipcode').agg({'price': 'mean', 'bedrooms': 'mean'}).reset_index()\n",
    "#by_zipcode['zipcode'] = df_house.zipcode.astype('str')\n",
    "#by_zipcode.head()\n",
    "\n",
    "import plotly.express as px\n",
    "\n",
    "\n",
    "fig = px.choropleth_mapbox(by_zipcode, geojson=zipcodes, locations='zipcode', color='bedrooms',\n",
    "                           color_continuous_scale=\"Viridis\",\n",
    "                           range_color=(by_zipcode['bedrooms'].min(), by_zipcode['bedrooms'].max()),\n",
    "                           mapbox_style=\"carto-positron\",\n",
    "                           zoom=8, center = {\"lat\": 47.553306, \"lon\": -122.237702},\n",
    "                           featureidkey=\"properties.ZCTA5CE10\",\n",
    "                           opacity=0.5,\n",
    "                           labels={'price':'average house price'}\n",
    "                          )\n",
    "fig.update_layout(margin={\"r\":0,\"t\":0,\"l\":0,\"b\":0})\n",
    "fig.show()"
   ]
  },
  {
   "cell_type": "markdown",
   "metadata": {},
   "source": [
    "### Insights\n",
    "- house sizes in terms of bedrooms smaller in adjacent inner city zipcode areas\n",
    "- bigger houses in 98039 and 98040, and 98004, 98005, and 98006"
   ]
  },
  {
   "cell_type": "markdown",
   "metadata": {},
   "source": [
    "## 3.3 Property grade per zipcode"
   ]
  },
  {
   "cell_type": "code",
   "execution_count": null,
   "metadata": {},
   "outputs": [],
   "source": [
    "new_zip_price_grade = merged_zip_grade_plot\n",
    "\n",
    "# run code\n",
    "with urlopen('https://raw.githubusercontent.com/OpenDataDE/State-zip-code-GeoJSON/master/wa_washington_zip_codes_geo.min.json') as response:\n",
    "   zipcodes = json.load(response)\n",
    "\n",
    "by_zipcode = merged_zip_grade_plot\n",
    "#by_zipcode['zipcode'] = df_house.zipcode.astype('str')\n",
    "#by_zipcode.info()\n",
    "\n",
    "import plotly.express as px\n",
    "\n",
    "\n",
    "fig = px.choropleth_mapbox(by_zipcode, geojson=zipcodes, locations='zipcode', color='grade_average',\n",
    "                           color_continuous_scale=\"Viridis\",\n",
    "                           range_color=(by_zipcode['grade_average'].min(), by_zipcode['grade_average'].max()),\n",
    "                           mapbox_style=\"carto-positron\",\n",
    "                           zoom=8, center = {\"lat\": 47.553306, \"lon\": -122.237702},\n",
    "                           featureidkey=\"properties.ZCTA5CE10\",\n",
    "                           opacity=0.5,\n",
    "                           labels={'grade_average':'average house grade'}\n",
    "                          )\n",
    "fig.update_layout(margin={\"r\":0,\"t\":0,\"l\":0,\"b\":0})\n",
    "fig.show()"
   ]
  },
  {
   "cell_type": "markdown",
   "metadata": {},
   "source": [
    "### Insights\n",
    "- average house grades seem to be lower south of Seattle city center\n",
    "- average house grades seem to be higher in water-faceing zipcodes than in others\n",
    "- average house grades are higher towards the East, especially the North East \n",
    "- Zipcode 98039, primarily in Medina, the highest average house grade (upper middle class area, predominantly white, household income $208K)\n",
    "- Zipcode 98168 (Tukwila, Burien, SeaTac, Boulevard Park, and White Center) has the lowest average house grade (lower middle class, mixed, household income of $71K)"
   ]
  },
  {
   "cell_type": "markdown",
   "metadata": {},
   "source": [
    "## 3.4 Changes in price per sqft_living by grade and zipcode\n",
    "- Assumption is that the change in price per \"sqft living area\" is a good proxy for general price changes across grade-based property categories"
   ]
  },
  {
   "cell_type": "markdown",
   "metadata": {},
   "source": [
    "### Changes in price per sqft_living by grade"
   ]
  },
  {
   "cell_type": "code",
   "execution_count": null,
   "metadata": {},
   "outputs": [],
   "source": [
    "\n",
    "comp_1 = df_house[['grade','date', 'price', 'sqft_living']].query('date >= \"2014-05-01\" and date <= \"2014-7-31\"').groupby('grade').mean('price')\n",
    "comp_1.rename({'price':'price2014', 'sqft_living': 'sqft_living2014'},axis=1, inplace=True)\n",
    "\n",
    "\n",
    "comp_2 = df_house[['grade','date', 'price', 'sqft_living']].query('date >= \"2015-03-01\" and date <= \"2015-5-31\"').groupby('grade').mean('price')\n",
    "comp_2.rename({'price':'price2015', 'sqft_living': 'sqft_living2015'},axis=1, inplace=True)\n",
    "\n",
    "comp_1['price_sqft_ave_2014MJ'] = comp_1['price2014'] / comp_1['sqft_living2014']\n",
    "comp_2['price_sqft_ave_2015MM'] = comp_2['price2015'] / comp_2['sqft_living2015']\n",
    "\n",
    "merged_comp_range = pd.merge(comp_1, comp_2, on='grade', how='inner')\n",
    "\n",
    "merged_comp_range['delta_price_in_%'] = ((merged_comp_range['price_sqft_ave_2015MM']/merged_comp_range['price_sqft_ave_2014MJ'])-1)*100\n",
    "merged_comp_range"
   ]
  },
  {
   "cell_type": "markdown",
   "metadata": {},
   "source": [
    "### Insights\n",
    "- Assumption is that average price per sqft living area is a good indication for price changes.\n",
    "- Property prices rose significantly between the period May to July 2014 and March to May 2015 but not for all grades.\n",
    "- Super mansion prices stayed the same, while prices for high end luxury homes rose by 34%.\n",
    "- Grade 4, grade 5 and grade 6 average property prices rose significantly (14% and 23%)."
   ]
  },
  {
   "cell_type": "markdown",
   "metadata": {},
   "source": [
    "### Changes in price per sqft_living by zipcode\n",
    "- Assumption is that the change in price per \"sqft living area\" is a good proxy for general price changes across zipcodes (better reflection of property price deltas than vartiable \"price\")"
   ]
  },
  {
   "cell_type": "code",
   "execution_count": null,
   "metadata": {},
   "outputs": [],
   "source": [
    "comp_zip_1 = df_house[['zipcode','date', 'price', 'sqft_living']].query('date >= \"2014-05-01\" and date <= \"2014-7-31\"').groupby('zipcode').mean('price').reset_index()\n",
    "comp_zip_1.rename({'price':'price2014', 'sqft_living': 'sqft_living2014'},axis=1, inplace=True)\n",
    "\n",
    "comp_zip_2 = df_house[['zipcode','date', 'price', 'sqft_living']].query('date >= \"2015-03-01\" and date <= \"2015-5-31\"').groupby('zipcode').mean('price').reset_index()\n",
    "comp_zip_2.rename({'price':'price2015', 'sqft_living': 'sqft_living2015'},axis=1, inplace=True)\n",
    "\n",
    "comp_zip_1['price_sqft_ave_2014MJ'] = comp_zip_1['price2014'] / comp_zip_1['sqft_living2014']\n",
    "comp_zip_2['price_sqft_ave_2015MM'] = comp_zip_2['price2015'] / comp_zip_2['sqft_living2015']\n",
    "\n",
    "merged_comp_zip = pd.merge(comp_zip_1, comp_zip_2, on='zipcode', how='inner')\n",
    "\n",
    "merged_comp_zip['delta_price_in_%'] = ((merged_comp_zip['price_sqft_ave_2015MM']/merged_comp_zip['price_sqft_ave_2014MJ'])-1)*100"
   ]
  },
  {
   "cell_type": "code",
   "execution_count": null,
   "metadata": {},
   "outputs": [],
   "source": [
    "df_zip = merged_comp_zip\n",
    "\n",
    "fig = px.choropleth_mapbox(df_zip, geojson=zipcodes, locations='zipcode', color='delta_price_in_%',\n",
    "                            color_continuous_scale=\"Viridis\",\n",
    "                            range_color=(df_zip['delta_price_in_%'].min(),df_zip['delta_price_in_%'].max()),\n",
    "                            mapbox_style=\"carto-positron\",\n",
    "                            zoom=8, center = {\"lat\": 47.553306, \"lon\": -122.237702},\n",
    "                            featureidkey=\"properties.ZCTA5CE10\",\n",
    "                            opacity= 0.5,\n",
    "                            labels={'delta_price_in_%':'delta in ave house prices 2014 Q2 to 2015 Q2'}\n",
    "                            )\n",
    "\n",
    "fig.update_layout(margin={\"r\":0,\"t\":0,\"l\":0,\"b\":0})"
   ]
  },
  {
   "cell_type": "markdown",
   "metadata": {},
   "source": [
    "### Insights\n",
    "- Prices in zipcode 98125 rose significantly during period (27%).\n",
    "- Prices in zipcodes in the South rose less than prices in zipcodes in the North East.\n",
    "- Prices in inner borough zipcodes towards the N, S and SE of Seattle centre remained flat (98108, 98109, 98144).\n",
    "- Prices rose more in \"outer\" inner borough zipcode to the N and S of Seattle Center (e.g. 98118, 98168, 98188)"
   ]
  },
  {
   "cell_type": "markdown",
   "metadata": {},
   "source": [
    "## 3.5 Median income per neighborhood\n",
    "- dataframe df_house3 is based on seattle_income_zip.csv, which contains median household income data for Seattle plus King County\n",
    "- input for Nicole Johnson analysis"
   ]
  },
  {
   "cell_type": "code",
   "execution_count": null,
   "metadata": {},
   "outputs": [],
   "source": [
    "df_house3 = pd.read_csv('data/seattle_income_zip.csv')\n",
    "\n",
    "df_house3.rename({'ZIP Code':'zipcode', 'Median Household Income(2021)': 'median_income'},axis=1, inplace=True)\n",
    "df_house3['zipcode'] = df_house3['zipcode'].astype('string')"
   ]
  },
  {
   "cell_type": "code",
   "execution_count": null,
   "metadata": {},
   "outputs": [],
   "source": [
    "df_zip = df_house3\n",
    "\n",
    "fig = px.choropleth_mapbox(df_zip, geojson=zipcodes, locations='zipcode', color='median_income',\n",
    "                            color_continuous_scale=\"Viridis\",\n",
    "                            range_color=(df_zip['median_income'].min(),df_zip['median_income'].max()),\n",
    "                            mapbox_style=\"carto-positron\",\n",
    "                            zoom=8, center = {\"lat\": 47.553306, \"lon\": -122.237702},\n",
    "                            featureidkey=\"properties.ZCTA5CE10\",\n",
    "                            opacity= 0.5,\n",
    "                            labels={'median_income':'median_income_by_zip'}\n",
    "                            )\n",
    "\n",
    "fig.update_layout(margin={\"r\":0,\"t\":0,\"l\":0,\"b\":0})"
   ]
  },
  {
   "cell_type": "markdown",
   "metadata": {},
   "source": [
    "# 4. Analysis for Nicole Johnson\n",
    "## 4.1 Main table for plotting median income by zipcode\n",
    "- Reference dataframe for all median income zipcodes that might form part of analyis\n",
    "- Contains zipcodes of \"preferred areas\" and \"adjacent zipcodes\"\n",
    "- df_house3_1 is based on df_house3"
   ]
  },
  {
   "cell_type": "code",
   "execution_count": null,
   "metadata": {},
   "outputs": [],
   "source": [
    "df_house3_1 = df_house3.query('zipcode in [\"98101\", \"98102\", \"98103\", \"98104\", \"98105\", \"98107\", \"98121\", \"98122\", \"98109\", \"98112\", \"98115\", \"98119\", \"98117\", \"98121\", \"98125\", \"98133\", \"98177\", \"98199\"]')"
   ]
  },
  {
   "cell_type": "markdown",
   "metadata": {},
   "source": [
    "## 4.2 Main table for identifying properties by zipcode\n",
    "- df_trendy is a zipcode-based subset of df_house2. It contains all property information that is relevant for zipcodes relevant for the Nicole Johnson search (preferred and adjacent) "
   ]
  },
  {
   "cell_type": "code",
   "execution_count": null,
   "metadata": {},
   "outputs": [],
   "source": [
    "df_trendy = df_house.query('zipcode in [\"98101\", \"98102\", \"98103\", \"98104\", \"98105\", \"98107\", \"98121\", \"98122\", \"98109\", \"98112\", \"98115\", \"98119\", \"98117\", \"98121\", \"98177\", \"98199\"]')"
   ]
  },
  {
   "cell_type": "markdown",
   "metadata": {},
   "source": [
    "## 4.3 Identify prices and property sales numbers in Nicole's preferred areas\n",
    "- merged table allows to identify target zipcode"
   ]
  },
  {
   "cell_type": "code",
   "execution_count": null,
   "metadata": {},
   "outputs": [],
   "source": [
    "df_trendy1 = df_trendy[['zipcode', 'price', 'bedrooms']].groupby('zipcode').mean()\n",
    "df_trendy2 = df_trendy[['zipcode', 'sale_id']].groupby('zipcode').count().reset_index()\n",
    "df_trendy2.rename ({'sale_id':'turnover'},axis=1, inplace=True)\n",
    "df_trendy_merge = pd.merge(df_trendy1, df_trendy2, on='zipcode', how='inner').sort_values(\"price\")\n",
    "\n",
    "df_trendy_merge"
   ]
  },
  {
   "cell_type": "markdown",
   "metadata": {},
   "source": [
    "## 4.4 Graphic analysis of Nicole's preferred zipcodes (average price and turnover)"
   ]
  },
  {
   "cell_type": "code",
   "execution_count": null,
   "metadata": {},
   "outputs": [],
   "source": [
    "df_trendy_merge.query('zipcode in [\"98101\", \"98102\", \"98103\", \"98104\", \"98105\", \"98107\", \"98121\", \"98122\"]')"
   ]
  },
  {
   "cell_type": "code",
   "execution_count": null,
   "metadata": {},
   "outputs": [],
   "source": [
    "df_trendy_merge_preferred = df_trendy_merge.query('zipcode in [\"98101\", \"98102\", \"98103\", \"98104\", \"98105\", \"98107\", \"98121\", \"98122\"]')\n",
    "\n",
    "df_zip = df_trendy_merge_preferred\n",
    "\n",
    "fig = px.choropleth_mapbox(df_zip, geojson=zipcodes, locations='zipcode', color='price',\n",
    "                            color_continuous_scale=\"Viridis\",\n",
    "                            range_color=(df_zip['price'].min(),df_zip['price'].max()),\n",
    "                            mapbox_style=\"carto-positron\",\n",
    "                            zoom=8, center = {\"lat\": 47.553306, \"lon\": -122.237702},\n",
    "                            featureidkey=\"properties.ZCTA5CE10\",\n",
    "                            opacity= 0.5,\n",
    "                            labels={'price':'average_price_by_zip'}\n",
    "                            )\n",
    "\n",
    "fig.update_layout(margin={\"r\":0,\"t\":0,\"l\":0,\"b\":0})"
   ]
  },
  {
   "cell_type": "markdown",
   "metadata": {},
   "source": [
    "## 4.5 Identification of additional search areas \n",
    "- zipcode areas are visualized by median income per zipcode\n",
    "- we select zipcodes with median household income > USD 100K"
   ]
  },
  {
   "cell_type": "code",
   "execution_count": null,
   "metadata": {},
   "outputs": [],
   "source": [
    "df_trendy_merge_selected = df_house3_1.query('zipcode in [\"98109\", \"98112\", \"98115\", \"98119\", \"98117\", \"98121\", \"98125\", \"98133\", \"98144\", \"98177\", \"98199\"]')\n",
    "\n",
    "\n",
    "df_zip = df_trendy_merge_selected\n",
    "\n",
    "fig = px.choropleth_mapbox(df_zip, geojson=zipcodes, locations='zipcode', color='median_income',\n",
    "                            color_continuous_scale=\"Viridis\",\n",
    "                            range_color=(df_zip['median_income'].min(),df_zip['median_income'].max()),\n",
    "                            mapbox_style=\"carto-positron\",\n",
    "                            zoom=8, center = {\"lat\": 47.553306, \"lon\": -122.237702},\n",
    "                            featureidkey=\"properties.ZCTA5CE10\",\n",
    "                            opacity= 0.5,\n",
    "                            labels={'median_income':'median_income_by_zip'}\n",
    "                            )\n",
    "\n",
    "fig.update_layout(margin={\"r\":0,\"t\":0,\"l\":0,\"b\":0})"
   ]
  },
  {
   "cell_type": "markdown",
   "metadata": {},
   "source": [
    "## 4.6 Identification of properties in selected zipcodes\n",
    "We need a two bedroom in zipcode 98117, 98103, 98107, 98155"
   ]
  },
  {
   "cell_type": "code",
   "execution_count": null,
   "metadata": {},
   "outputs": [],
   "source": [
    "df_house.query('(zipcode in [\"98117\", \"98103\", \"98107\", \"98155\"]) and (price < 450000) and (bedrooms == 2) and (bathrooms == 2)')"
   ]
  }
 ],
 "metadata": {
  "kernelspec": {
   "display_name": ".venv",
   "language": "python",
   "name": "python3"
  },
  "language_info": {
   "codemirror_mode": {
    "name": "ipython",
    "version": 3
   },
   "file_extension": ".py",
   "mimetype": "text/x-python",
   "name": "python",
   "nbconvert_exporter": "python",
   "pygments_lexer": "ipython3",
   "version": "3.11.3"
  },
  "orig_nbformat": 4
 },
 "nbformat": 4,
 "nbformat_minor": 2
}
