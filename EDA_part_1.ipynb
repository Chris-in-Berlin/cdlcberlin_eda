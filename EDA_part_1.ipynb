{
 "cells": [
  {
   "cell_type": "markdown",
   "metadata": {},
   "source": [
    "## Prepare analysis"
   ]
  },
  {
   "cell_type": "code",
   "execution_count": null,
   "metadata": {},
   "outputs": [],
   "source": [
    "import warnings\n",
    "\n",
    "warnings.filterwarnings(\"ignore\")\n",
    "\n",
    "import pandas as pd\n",
    "import numpy as np\n",
    "import matplotlib.pyplot as plt\n",
    "import seaborn as sns\n",
    "\n",
    "\n",
    "from matplotlib.ticker import PercentFormatter\n",
    "plt.rcParams.update({ \"figure.figsize\" : (8, 5),\"axes.facecolor\" : \"white\", \"axes.edgecolor\":  \"black\"})\n",
    "plt.rcParams[\"figure.facecolor\"]= \"w\"\n",
    "pd.plotting.register_matplotlib_converters()\n",
    "pd.set_option('display.float_format', lambda x: '%.2f' % x)"
   ]
  },
  {
   "cell_type": "markdown",
   "metadata": {},
   "source": [
    "Upload csv file"
   ]
  },
  {
   "cell_type": "code",
   "execution_count": null,
   "metadata": {},
   "outputs": [],
   "source": [
    "df_house = pd.read_csv('data/eda.csv')\n"
   ]
  },
  {
   "cell_type": "markdown",
   "metadata": {},
   "source": [
    "## Clean data"
   ]
  },
  {
   "cell_type": "markdown",
   "metadata": {},
   "source": [
    "Overview table columns"
   ]
  },
  {
   "cell_type": "code",
   "execution_count": null,
   "metadata": {},
   "outputs": [],
   "source": [
    "df_house.head()\n",
    "df_house.dtypes"
   ]
  },
  {
   "cell_type": "markdown",
   "metadata": {},
   "source": [
    "Rename and change columns - clean data if necessary"
   ]
  },
  {
   "cell_type": "code",
   "execution_count": null,
   "metadata": {},
   "outputs": [],
   "source": [
    "# rename columns\n",
    "df_house.rename({'id':'house_id'},axis=1, inplace=True)"
   ]
  },
  {
   "cell_type": "code",
   "execution_count": null,
   "metadata": {},
   "outputs": [],
   "source": [
    "# change date type\n",
    "df_house['date'] = pd.to_datetime(df_house['date'], format='%Y-%m-%d')\n",
    "type(df_house['date'][0])"
   ]
  },
  {
   "cell_type": "code",
   "execution_count": null,
   "metadata": {},
   "outputs": [],
   "source": [
    "# limit decimal points\n",
    "df_house['price'] = df_house['price'].round(2)"
   ]
  },
  {
   "cell_type": "code",
   "execution_count": null,
   "metadata": {},
   "outputs": [],
   "source": [
    "# ZIPCODES\n",
    "# turn zipcodes into string\n",
    "df_house['zipcode'] = df_house['zipcode'].astype('string')"
   ]
  },
  {
   "cell_type": "code",
   "execution_count": null,
   "metadata": {},
   "outputs": [],
   "source": [
    "#View\n",
    "#- No changes\n",
    "#- NaN means  that we don't know whether change took place"
   ]
  },
  {
   "cell_type": "code",
   "execution_count": null,
   "metadata": {},
   "outputs": [],
   "source": [
    "#WATERFRONT\n",
    "#- No changes\n",
    "#- NaN means \"we don't know whether property has waterfront view\""
   ]
  },
  {
   "cell_type": "code",
   "execution_count": null,
   "metadata": {},
   "outputs": [],
   "source": [
    "# YR_RENOVATED\n",
    "\n",
    "# we need to change the year value (i.e., divide by 10)\n",
    "df_house['yr_renovated'] = df_house.yr_renovated.apply(lambda x: x*0.1)\n",
    "\n",
    "# we assume that NaN in DB means not yet renovated\n",
    "df_house['yr_renovated'] = df_house['yr_renovated'].replace(0, np.nan)"
   ]
  },
  {
   "cell_type": "code",
   "execution_count": null,
   "metadata": {},
   "outputs": [],
   "source": [
    "# SQFT_BASEMENT\n",
    "# assumption is that '0' means 'no basement'\n",
    "# NaN means that we don't know whether a basement exists"
   ]
  },
  {
   "cell_type": "markdown",
   "metadata": {},
   "source": [
    "## Explore data"
   ]
  },
  {
   "cell_type": "markdown",
   "metadata": {},
   "source": [
    "### House price descriptive statistics\n",
    "\n",
    "- mean     540,296.57\n",
    "- std      367,368.14\n",
    "- min       78,000.00\n",
    "- 25%      322,000.00\n",
    "- 50%      450,000.00\n",
    "- 75%      645,000.00\n",
    "- max     7,700,000.00\n",
    "\n",
    "- There seem to be a lot of outliers. Roughly 200 houses (198) cost more than U>Sd 2 m.\n",
    "- Median is USD 450000.\n",
    "- Mode is USD 350000 and USD 450000.\n",
    "- IQR is USD 323,000\n",
    "- UP is USD 1,129,500"
   ]
  },
  {
   "cell_type": "code",
   "execution_count": null,
   "metadata": {},
   "outputs": [],
   "source": [
    "print(f'There are {df_house.query(\"price > 2000000\").price.count()} houses more expensive than USD 2m.')\n",
    "print(f'Median is {df_house.price.median()}.')\n",
    "print(f'Mode is {df_house.price.mode()}.')\n"
   ]
  },
  {
   "cell_type": "markdown",
   "metadata": {},
   "source": [
    "### House price box diagram"
   ]
  },
  {
   "cell_type": "code",
   "execution_count": null,
   "metadata": {},
   "outputs": [],
   "source": [
    "df_house.query('price < 2000000').price.plot(kind = 'box')"
   ]
  },
  {
   "cell_type": "markdown",
   "metadata": {},
   "source": [
    "### House price frequency distribution"
   ]
  },
  {
   "cell_type": "code",
   "execution_count": null,
   "metadata": {},
   "outputs": [],
   "source": [
    "df_house.query('price < 2000000').price.plot(kind = 'hist', bins = 100)"
   ]
  },
  {
   "cell_type": "markdown",
   "metadata": {},
   "source": [
    "## Zip code enquiry"
   ]
  },
  {
   "cell_type": "code",
   "execution_count": null,
   "metadata": {},
   "outputs": [],
   "source": [
    "df_house['zipcode'].nunique()\n",
    "# There are 70 different zipcodes in King County"
   ]
  },
  {
   "cell_type": "markdown",
   "metadata": {},
   "source": [
    "### Zip code and price"
   ]
  },
  {
   "cell_type": "code",
   "execution_count": null,
   "metadata": {},
   "outputs": [],
   "source": [
    "# Zip codes with the lowest average house prices\n",
    "df_house.groupby('zipcode').price.describe().sort_values('mean').head(10)"
   ]
  },
  {
   "cell_type": "markdown",
   "metadata": {},
   "source": [
    "### Ave property prices per zipcode\n",
    "- averages are based on data 2014 May to 2015 May"
   ]
  },
  {
   "cell_type": "code",
   "execution_count": null,
   "metadata": {},
   "outputs": [],
   "source": [
    "# zip code plot\n",
    "\n",
    "zip_price_plot = df_house[['zipcode', 'price']].groupby('zipcode').mean('price').sort_values('price').reset_index()\n",
    "zip_price_plot\n",
    "\n",
    "\n",
    "# Set the width of the bars\n",
    "bar_width = 0.3\n",
    "\n",
    "# Set positions of the bars\n",
    "index = np.arange(len(zip_price_plot['zipcode']))\n",
    "\n",
    "# Plotting the bars\n",
    "plt.figure(figsize=(12, 6))  # Adjust the figure size as needed\n",
    "bars1 = plt.bar(index, zip_price_plot['price'], bar_width, label='average price')\n",
    "\n",
    "# Adding labels and title\n",
    "plt.xlabel('Zipcode')\n",
    "plt.ylabel('Average price')\n",
    "plt.title('Average House price per zipcode')\n",
    "plt.xticks(index, zip_price_plot['zipcode'], rotation=90)\n",
    "plt.legend()\n",
    "\n",
    "# Show the plot\n",
    "plt.tight_layout()\n",
    "plt.show()"
   ]
  },
  {
   "cell_type": "markdown",
   "metadata": {},
   "source": [
    "### Insights\n",
    "- Average property prices are zipcode dependent\n",
    "- Highest property prices in 98039 (upper-middle class neighborhood)"
   ]
  },
  {
   "cell_type": "markdown",
   "metadata": {},
   "source": [
    "### Turnover in zipcode area during period\n",
    "- averages are based on data 2014 May to 2015 May"
   ]
  },
  {
   "cell_type": "code",
   "execution_count": null,
   "metadata": {},
   "outputs": [],
   "source": [
    "# Zip codes with the highest sales turnover\n",
    "\n",
    "zip_turnover_plot = df_house[['zipcode','sale_id']].groupby('zipcode').count().sort_values('sale_id').reset_index()\n",
    "\n",
    "# Set the width of the bars\n",
    "bar_width = 0.3\n",
    "\n",
    "# Set positions of the bars\n",
    "index = np.arange(len(zip_turnover_plot['zipcode']))\n",
    "\n",
    "# Plotting the bars\n",
    "plt.figure(figsize=(12, 6))  # Adjust the figure size as needed\n",
    "bars1 = plt.bar(index, zip_turnover_plot['sale_id'], bar_width, label='turnover')\n",
    "\n",
    "# Adding labels and title\n",
    "plt.xlabel('Zipcode')\n",
    "plt.ylabel('Sales in Period')\n",
    "plt.title('Sales in period per zipcode')\n",
    "plt.xticks(index, zip_turnover_plot['zipcode'], rotation=90)\n",
    "plt.legend()\n",
    "\n",
    "# Show the plot\n",
    "plt.tight_layout()\n",
    "plt.show()"
   ]
  },
  {
   "cell_type": "markdown",
   "metadata": {},
   "source": [
    "### Insights\n",
    "- highest turnovers in zipcodes 98103, 98038, 98115 (all upper-middle and middle class white neighborhoods)\n",
    "- lowest turnovers in zipcode 98039 (upper middle class, small, very high house prices) and 98092 (lower middle class, white)"
   ]
  },
  {
   "cell_type": "markdown",
   "metadata": {},
   "source": [
    "### Turnover and average property price by zipcode\n",
    "- averages are based on data 2014 May to 2015 May"
   ]
  },
  {
   "cell_type": "code",
   "execution_count": null,
   "metadata": {},
   "outputs": [],
   "source": [
    "merged_zip_plot = pd.merge(zip_price_plot, zip_turnover_plot, on='zipcode', how='inner')\n",
    "merged_zip_plot.rename({'sale_id':'turnover_in_period'},axis=1, inplace=True)\n",
    "merged_zip_plot\n"
   ]
  },
  {
   "cell_type": "code",
   "execution_count": null,
   "metadata": {},
   "outputs": [],
   "source": [
    "# Comparison Average Price and Turnover by Zipcode\n",
    "\n",
    "# Set the width of the bars\n",
    "bar_width = 0.3\n",
    "\n",
    "# Set positions of the bars\n",
    "index = np.arange(len(merged_zip_plot['zipcode']))\n",
    "\n",
    "# Plotting the bars\n",
    "fig, ax1 = plt.subplots(figsize=(12,6))\n",
    "\n",
    "bars1 = ax1.bar(index - 0.5 * bar_width, merged_zip_plot['price'], bar_width, label='price')\n",
    "\n",
    "ax1.set_xlabel('zipcode')\n",
    "ax1.set_ylabel('average house price', color = 'b')\n",
    "ax1.tick_params(axis='y', labelcolor='b')\n",
    "ax1.set_xticks(index)\n",
    "ax1.set_xticklabels(merged_zip_plot['zipcode'], rotation=90)\n",
    "\n",
    "ax2 = ax1.twinx()\n",
    "bars2 = ax2.bar(index + 0.5 * bar_width, merged_zip_plot['turnover_in_period'], bar_width, label='turnover_in_period', color = 'red')\n",
    "\n",
    "ax2.set_ylabel('Turnover in Period', color='red')\n",
    "ax2.tick_params(axis='y', labelcolor='red')\n",
    "\n",
    "# Adding labels and title\n",
    "plt.title('Zipcodes by turnover and average sales price')\n",
    "plt.legend([bars1, bars2], ['price','turnover_in_period'])\n",
    "\n",
    "# Show the plot\n",
    "plt.tight_layout()\n",
    "plt.show()"
   ]
  },
  {
   "cell_type": "markdown",
   "metadata": {},
   "source": [
    "### Zipcode and property grades"
   ]
  },
  {
   "cell_type": "code",
   "execution_count": null,
   "metadata": {},
   "outputs": [],
   "source": [
    "# test assumption that property price averages are linked to property grades\n",
    "\n",
    "zip_grade_plot = df_house[['zipcode', 'grade']].groupby('zipcode').mean('grade').sort_values('grade').reset_index()\n",
    "zip_grade_plot.rename({'grade':'grade_average'},axis=1, inplace=True)\n",
    "\n",
    "merged_zip_grade_plot = pd.merge(zip_price_plot, zip_grade_plot, on='zipcode', how='inner')\n",
    "merged_zip_grade_plot\n"
   ]
  },
  {
   "cell_type": "code",
   "execution_count": null,
   "metadata": {},
   "outputs": [],
   "source": [
    "# Comparison Average Price and Average Grade by Zipcode\n",
    "\n",
    "# Set the width of the bars\n",
    "bar_width = 0.3\n",
    "\n",
    "# Set positions of the bars\n",
    "index = np.arange(len(merged_zip_grade_plot['zipcode']))\n",
    "\n",
    "# Plotting the bars\n",
    "fig, ax1 = plt.subplots(figsize=(12,6))\n",
    "\n",
    "bars1 = ax1.bar(index - 0.5 * bar_width, merged_zip_grade_plot['price'], bar_width, label='price')\n",
    "\n",
    "ax1.set_xlabel('zipcode')\n",
    "ax1.set_ylabel('average house price', color = 'b')\n",
    "ax1.tick_params(axis='y', labelcolor='b')\n",
    "ax1.set_xticks(index)\n",
    "ax1.set_xticklabels(merged_zip_grade_plot['zipcode'], rotation=90)\n",
    "\n",
    "ax2 = ax1.twinx()\n",
    "bars2 = ax2.bar(index + 0.5 * bar_width, merged_zip_grade_plot['grade_average'], bar_width, label='grade_average', color = 'red')\n",
    "\n",
    "ax2.set_ylabel('Average grade', color='red')\n",
    "ax2.tick_params(axis='y', labelcolor='red')\n",
    "\n",
    "# Adding labels and title\n",
    "plt.title('Comparison Average Price and Average Grade by Zipcode')\n",
    "plt.legend([bars1, bars2], ['price','grade_average'])\n",
    "\n",
    "# Show the plot\n",
    "plt.tight_layout()\n",
    "plt.show()"
   ]
  },
  {
   "cell_type": "markdown",
   "metadata": {},
   "source": [
    "## Overview properties"
   ]
  },
  {
   "cell_type": "code",
   "execution_count": null,
   "metadata": {},
   "outputs": [],
   "source": [
    "property_overview_grade_1 = df_house[['grade','price','bedrooms', 'bathrooms','sqft_living','floors', 'condition', 'yr_built', 'yr_renovated']].groupby('grade').mean()\n",
    "property_overview_grade_2 = df_house[['grade', 'sale_id']].groupby('grade').count().reset_index()\n",
    "property_overview_grade_2.rename({'sale_id':'turnover_in_period'},axis=1, inplace=True)\n",
    "property_overview_grade_1['sqft_price_ave'] = property_overview_grade_1['price'] / property_overview_grade_1['sqft_living']\n",
    "property_overview_grade = pd.merge(property_overview_grade_1, property_overview_grade_2, on='grade', how='inner')\n",
    "property_overview_grade\n",
    "# grade 3 houses tend to have one bedroom. Some of them haven't got separate bedrooms\n",
    "# grade 5+ tend to have two or more bedrooms\n",
    "# grade 7+ tend to have more than one floor\n",
    "# average condition of grade 3 homes tends to be very good; however, they tend not to be renovated (or we don't know)\n",
    "# houses up to grade 6 tend to be pre-war\n"
   ]
  },
  {
   "cell_type": "markdown",
   "metadata": {},
   "source": [
    "### Insights about King County properties\n",
    "- Highest turnover with grade 4 and 5 properties. Properties have up to 4 bedrooms and 2 bathrooms on average. \n",
    "Price per sqft is approx. USD 240.\n",
    "- Smaller appartments seem to be more expensive in terms of sqft prices.\n",
    "- Grade 7 and above tend to have more than one bathroom.\n",
    "- Properties of higher quality tend to be bigger and more expensive in terms of sqft price per living area. They might have a bigger plot size.\n",
    "- Up to grade 5, properties tend to be either appartments or bungalows. Grade 6 and above tend to be multi-storied.\n",
    "- Grade 5 to grade 8 properties tend to be of better condition than the rest.\n",
    "- Grade 3 to grade 6 properties tend to be pre-war, grade 9 and above approx. 25 yrs old."
   ]
  },
  {
   "cell_type": "markdown",
   "metadata": {},
   "source": [
    "## Geographical map "
   ]
  },
  {
   "cell_type": "markdown",
   "metadata": {},
   "source": [
    "### Price per zipcode"
   ]
  },
  {
   "cell_type": "code",
   "execution_count": null,
   "metadata": {},
   "outputs": [],
   "source": [
    "# upload packages\n",
    "from urllib.request import urlopen\n",
    "import json\n"
   ]
  },
  {
   "cell_type": "code",
   "execution_count": null,
   "metadata": {},
   "outputs": [],
   "source": [
    "# run code\n",
    "with urlopen('https://raw.githubusercontent.com/OpenDataDE/State-zip-code-GeoJSON/master/wa_washington_zip_codes_geo.min.json') as response:\n",
    "    zipcodes = json.load(response)\n",
    "\n",
    "by_zipcode = df_house.groupby('zipcode').agg({'price': 'mean'}).reset_index()\n",
    "#by_zipcode['zipcode'] = df_house.zipcode.astype('str')\n",
    "#by_zipcode.head()\n",
    "\n",
    "import plotly.express as px\n",
    "\n",
    "\n",
    "fig = px.choropleth_mapbox(by_zipcode, geojson=zipcodes, locations='zipcode', color='price',\n",
    "                           color_continuous_scale=\"Viridis\",\n",
    "                           range_color=(by_zipcode['price'].min(), 1000000),\n",
    "                           mapbox_style=\"carto-positron\",\n",
    "                           zoom=8, center = {\"lat\": 47.553306, \"lon\": -122.237702},\n",
    "                           featureidkey=\"properties.ZCTA5CE10\",\n",
    "                           opacity=0.5,\n",
    "                           labels={'price':'average house price'}\n",
    "                          )\n",
    "fig.update_layout(margin={\"r\":0,\"t\":0,\"l\":0,\"b\":0})\n",
    "fig.show()"
   ]
  },
  {
   "cell_type": "markdown",
   "metadata": {},
   "source": [
    "### Average # of bedrooms"
   ]
  },
  {
   "cell_type": "code",
   "execution_count": null,
   "metadata": {},
   "outputs": [],
   "source": [
    "# Average # of bedrooms\n",
    "with urlopen('https://raw.githubusercontent.com/OpenDataDE/State-zip-code-GeoJSON/master/wa_washington_zip_codes_geo.min.json') as response:\n",
    "    zipcodes = json.load(response)\n",
    "\n",
    "by_zipcode = df_house.groupby('zipcode').agg({'price': 'mean', 'bedrooms': 'mean'}).reset_index()\n",
    "#by_zipcode['zipcode'] = df_house.zipcode.astype('str')\n",
    "#by_zipcode.head()\n",
    "\n",
    "import plotly.express as px\n",
    "\n",
    "\n",
    "fig = px.choropleth_mapbox(by_zipcode, geojson=zipcodes, locations='zipcode', color='bedrooms',\n",
    "                           color_continuous_scale=\"Viridis\",\n",
    "                           range_color=(by_zipcode['bedrooms'].min(), by_zipcode['bedrooms'].max()),\n",
    "                           mapbox_style=\"carto-positron\",\n",
    "                           zoom=8, center = {\"lat\": 47.553306, \"lon\": -122.237702},\n",
    "                           featureidkey=\"properties.ZCTA5CE10\",\n",
    "                           opacity=0.5,\n",
    "                           labels={'price':'average house price'}\n",
    "                          )\n",
    "fig.update_layout(margin={\"r\":0,\"t\":0,\"l\":0,\"b\":0})\n",
    "fig.show()"
   ]
  },
  {
   "cell_type": "markdown",
   "metadata": {},
   "source": [
    "### Insights\n",
    "- house sizes in terms of bedrooms smaller in adjacent inner city zipcode areas\n",
    "- bigger houses in 98039 and 98040, and 98004, 98005, and 98006"
   ]
  },
  {
   "cell_type": "markdown",
   "metadata": {},
   "source": [
    "### Average property grade per zipcode"
   ]
  },
  {
   "cell_type": "code",
   "execution_count": null,
   "metadata": {},
   "outputs": [],
   "source": [
    "new_zip_price_grade = merged_zip_grade_plot\n",
    "\n",
    "# run code\n",
    "with urlopen('https://raw.githubusercontent.com/OpenDataDE/State-zip-code-GeoJSON/master/wa_washington_zip_codes_geo.min.json') as response:\n",
    "   zipcodes = json.load(response)\n",
    "\n",
    "by_zipcode = merged_zip_grade_plot\n",
    "#by_zipcode['zipcode'] = df_house.zipcode.astype('str')\n",
    "#by_zipcode.info()\n",
    "\n",
    "import plotly.express as px\n",
    "\n",
    "\n",
    "fig = px.choropleth_mapbox(by_zipcode, geojson=zipcodes, locations='zipcode', color='grade_average',\n",
    "                           color_continuous_scale=\"Viridis\",\n",
    "                           range_color=(by_zipcode['grade_average'].min(), by_zipcode['grade_average'].max()),\n",
    "                           mapbox_style=\"carto-positron\",\n",
    "                           zoom=8, center = {\"lat\": 47.553306, \"lon\": -122.237702},\n",
    "                           featureidkey=\"properties.ZCTA5CE10\",\n",
    "                           opacity=0.5,\n",
    "                           labels={'grade_average':'average house grade'}\n",
    "                          )\n",
    "fig.update_layout(margin={\"r\":0,\"t\":0,\"l\":0,\"b\":0})\n",
    "fig.show()"
   ]
  },
  {
   "cell_type": "markdown",
   "metadata": {},
   "source": [
    "# 4. Analysis for Nicole Johnson\n",
    "### 4.1 Main table for plotting median income by zipcode\n",
    "- Reference dataframe for all median income zipcodes that might form part of analyis\n",
    "- Contains zipcodes of \"preferred areas\" and \"adjacent zipcodes\"\n",
    "- df_house3_1 is based on df_house3"
   ]
  },
  {
   "cell_type": "code",
   "execution_count": null,
   "metadata": {},
   "outputs": [],
   "source": []
  }
 ],
 "metadata": {
  "kernelspec": {
   "display_name": ".venv",
   "language": "python",
   "name": "python3"
  },
  "language_info": {
   "codemirror_mode": {
    "name": "ipython",
    "version": 3
   },
   "file_extension": ".py",
   "mimetype": "text/x-python",
   "name": "python",
   "nbconvert_exporter": "python",
   "pygments_lexer": "ipython3",
   "version": "3.11.3"
  },
  "orig_nbformat": 4
 },
 "nbformat": 4,
 "nbformat_minor": 2
}
